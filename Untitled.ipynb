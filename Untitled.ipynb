{
 "cells": [
  {
   "cell_type": "code",
   "execution_count": 49,
   "id": "f1d2334d",
   "metadata": {},
   "outputs": [],
   "source": [
    "import numpy as np, pandas as pd"
   ]
  },
  {
   "cell_type": "code",
   "execution_count": 50,
   "id": "aab55c68",
   "metadata": {},
   "outputs": [],
   "source": [
    "Data = pd.read_csv(r'C:\\Users\\Aarajula\\Downloads\\raw_data_v11_3.csv')"
   ]
  },
  {
   "cell_type": "code",
   "execution_count": 51,
   "id": "0f1b41c0",
   "metadata": {},
   "outputs": [
    {
     "data": {
      "text/html": [
       "<div>\n",
       "<style scoped>\n",
       "    .dataframe tbody tr th:only-of-type {\n",
       "        vertical-align: middle;\n",
       "    }\n",
       "\n",
       "    .dataframe tbody tr th {\n",
       "        vertical-align: top;\n",
       "    }\n",
       "\n",
       "    .dataframe thead th {\n",
       "        text-align: right;\n",
       "    }\n",
       "</style>\n",
       "<table border=\"1\" class=\"dataframe\">\n",
       "  <thead>\n",
       "    <tr style=\"text-align: right;\">\n",
       "      <th></th>\n",
       "      <th>Date of Birth</th>\n",
       "      <th>What is your current profession?</th>\n",
       "      <th>What is the year of completion of your Highest Education Qualification?</th>\n",
       "      <th>Which of the following best describes you?</th>\n",
       "      <th>Please mention the name of the institute where you have completed or are currently pursuing your Data Science Certification Course.</th>\n",
       "      <th>In case your certification institute is \"Innomatics Research Labs\", please provide your Enrolled Batch Number.</th>\n",
       "      <th>Please indicate the time that suits you for your daily LIVE interaction with our Chief Data Scientist as part of your internship.</th>\n",
       "      <th>What do you think are most important skill right now for a skilled Data Scientist?</th>\n",
       "    </tr>\n",
       "  </thead>\n",
       "  <tbody>\n",
       "    <tr>\n",
       "      <th>0</th>\n",
       "      <td>9/16/2000</td>\n",
       "      <td>Fresher (I have completed my Education and loo...</td>\n",
       "      <td>7/30/2023</td>\n",
       "      <td>I am currently enrolled in a Data Science cert...</td>\n",
       "      <td>Innomatics Research Labs</td>\n",
       "      <td>251</td>\n",
       "      <td>6:00 to 7:00 PM IST</td>\n",
       "      <td>Extracting actionable insights from the raw da...</td>\n",
       "    </tr>\n",
       "    <tr>\n",
       "      <th>1</th>\n",
       "      <td>2/6/1998</td>\n",
       "      <td>Fresher (I have completed my Education and loo...</td>\n",
       "      <td>5/18/2022</td>\n",
       "      <td>I have never enrolled in any certification cou...</td>\n",
       "      <td>NaN</td>\n",
       "      <td>NaN</td>\n",
       "      <td>6:00 to 7:00 PM IST</td>\n",
       "      <td>Extracting actionable insights from the raw data</td>\n",
       "    </tr>\n",
       "    <tr>\n",
       "      <th>2</th>\n",
       "      <td>10/8/2003</td>\n",
       "      <td>Student (I am currently enrolled in some Educa...</td>\n",
       "      <td>4/1/2025</td>\n",
       "      <td>I am currently enrolled in a Data Science cert...</td>\n",
       "      <td>NaN</td>\n",
       "      <td>NaN</td>\n",
       "      <td>6:00 to 7:00 PM IST</td>\n",
       "      <td>Data Modelling</td>\n",
       "    </tr>\n",
       "    <tr>\n",
       "      <th>3</th>\n",
       "      <td>11/29/2001</td>\n",
       "      <td>Student (I am currently enrolled in some Educa...</td>\n",
       "      <td>5/15/2024</td>\n",
       "      <td>I have never enrolled in any certification cou...</td>\n",
       "      <td>NaN</td>\n",
       "      <td>NaN</td>\n",
       "      <td>5:00 to 6:00 PM IST</td>\n",
       "      <td>Extracting actionable insights from the raw da...</td>\n",
       "    </tr>\n",
       "    <tr>\n",
       "      <th>4</th>\n",
       "      <td>11/25/2004</td>\n",
       "      <td>Student (I am currently enrolled in some Educa...</td>\n",
       "      <td>1/10/2026</td>\n",
       "      <td>I have completed a Data Science certification ...</td>\n",
       "      <td>Velagapudi ramakrishna Siddhartha college</td>\n",
       "      <td>Na</td>\n",
       "      <td>6:00 to 7:00 PM IST</td>\n",
       "      <td>Extracting actionable insights from the raw da...</td>\n",
       "    </tr>\n",
       "    <tr>\n",
       "      <th>...</th>\n",
       "      <td>...</td>\n",
       "      <td>...</td>\n",
       "      <td>...</td>\n",
       "      <td>...</td>\n",
       "      <td>...</td>\n",
       "      <td>...</td>\n",
       "      <td>...</td>\n",
       "      <td>...</td>\n",
       "    </tr>\n",
       "    <tr>\n",
       "      <th>995</th>\n",
       "      <td>8/28/1998</td>\n",
       "      <td>Fresher (I have completed my Education and loo...</td>\n",
       "      <td>11/15/2022</td>\n",
       "      <td>I have completed a Data Science certification ...</td>\n",
       "      <td>DevTown</td>\n",
       "      <td>NaN</td>\n",
       "      <td>6:00 to 7:00 PM IST</td>\n",
       "      <td>Extracting actionable insights from the raw da...</td>\n",
       "    </tr>\n",
       "    <tr>\n",
       "      <th>996</th>\n",
       "      <td>4/22/2004</td>\n",
       "      <td>Student (I am currently enrolled in some Educa...</td>\n",
       "      <td>7/23/2026</td>\n",
       "      <td>I am currently enrolled in a Data Science cert...</td>\n",
       "      <td>ONLINE COURSE</td>\n",
       "      <td>NaN</td>\n",
       "      <td>6:00 to 7:00 PM IST</td>\n",
       "      <td>LLMs</td>\n",
       "    </tr>\n",
       "    <tr>\n",
       "      <th>997</th>\n",
       "      <td>6/8/2000</td>\n",
       "      <td>Student (I am currently enrolled in some Educa...</td>\n",
       "      <td>5/31/2024</td>\n",
       "      <td>I have completed a Data Science certification ...</td>\n",
       "      <td>Chandigarh University</td>\n",
       "      <td>NaN</td>\n",
       "      <td>6:00 to 7:00 PM IST</td>\n",
       "      <td>Extracting actionable insights from the raw da...</td>\n",
       "    </tr>\n",
       "    <tr>\n",
       "      <th>998</th>\n",
       "      <td>6/3/2003</td>\n",
       "      <td>Student (I am currently enrolled in some Educa...</td>\n",
       "      <td>5/30/2025</td>\n",
       "      <td>I have never enrolled in any certification cou...</td>\n",
       "      <td>NaN</td>\n",
       "      <td>NaN</td>\n",
       "      <td>6:00 to 7:00 PM IST</td>\n",
       "      <td>Extracting actionable insights from the raw da...</td>\n",
       "    </tr>\n",
       "    <tr>\n",
       "      <th>999</th>\n",
       "      <td>7/24/2003</td>\n",
       "      <td>Student (I am currently enrolled in some Educa...</td>\n",
       "      <td>5/25/2025</td>\n",
       "      <td>I am currently enrolled in a Data Science cert...</td>\n",
       "      <td>Birla Institute of Technology and Science, Pil...</td>\n",
       "      <td>NaN</td>\n",
       "      <td>6:00 to 7:00 PM IST</td>\n",
       "      <td>LLMs, MLOps, Prompt Engineering</td>\n",
       "    </tr>\n",
       "  </tbody>\n",
       "</table>\n",
       "<p>1000 rows × 8 columns</p>\n",
       "</div>"
      ],
      "text/plain": [
       "    Date of Birth                   What is your current profession?  \\\n",
       "0       9/16/2000  Fresher (I have completed my Education and loo...   \n",
       "1        2/6/1998  Fresher (I have completed my Education and loo...   \n",
       "2       10/8/2003  Student (I am currently enrolled in some Educa...   \n",
       "3      11/29/2001  Student (I am currently enrolled in some Educa...   \n",
       "4      11/25/2004  Student (I am currently enrolled in some Educa...   \n",
       "..            ...                                                ...   \n",
       "995     8/28/1998  Fresher (I have completed my Education and loo...   \n",
       "996     4/22/2004  Student (I am currently enrolled in some Educa...   \n",
       "997      6/8/2000  Student (I am currently enrolled in some Educa...   \n",
       "998      6/3/2003  Student (I am currently enrolled in some Educa...   \n",
       "999     7/24/2003  Student (I am currently enrolled in some Educa...   \n",
       "\n",
       "    What is the year of completion of your Highest Education Qualification?  \\\n",
       "0                                            7/30/2023                        \n",
       "1                                            5/18/2022                        \n",
       "2                                             4/1/2025                        \n",
       "3                                            5/15/2024                        \n",
       "4                                            1/10/2026                        \n",
       "..                                                 ...                        \n",
       "995                                         11/15/2022                        \n",
       "996                                          7/23/2026                        \n",
       "997                                          5/31/2024                        \n",
       "998                                          5/30/2025                        \n",
       "999                                          5/25/2025                        \n",
       "\n",
       "            Which of the following best describes you?  \\\n",
       "0    I am currently enrolled in a Data Science cert...   \n",
       "1    I have never enrolled in any certification cou...   \n",
       "2    I am currently enrolled in a Data Science cert...   \n",
       "3    I have never enrolled in any certification cou...   \n",
       "4    I have completed a Data Science certification ...   \n",
       "..                                                 ...   \n",
       "995  I have completed a Data Science certification ...   \n",
       "996  I am currently enrolled in a Data Science cert...   \n",
       "997  I have completed a Data Science certification ...   \n",
       "998  I have never enrolled in any certification cou...   \n",
       "999  I am currently enrolled in a Data Science cert...   \n",
       "\n",
       "    Please mention the name of the institute where you have completed or are currently pursuing your Data Science Certification Course.  \\\n",
       "0                             Innomatics Research Labs                                                                                    \n",
       "1                                                  NaN                                                                                    \n",
       "2                                                  NaN                                                                                    \n",
       "3                                                  NaN                                                                                    \n",
       "4           Velagapudi ramakrishna Siddhartha college                                                                                     \n",
       "..                                                 ...                                                                                    \n",
       "995                                            DevTown                                                                                    \n",
       "996                                     ONLINE COURSE                                                                                     \n",
       "997                             Chandigarh University                                                                                     \n",
       "998                                                NaN                                                                                    \n",
       "999  Birla Institute of Technology and Science, Pil...                                                                                    \n",
       "\n",
       "    In case your certification institute is \"Innomatics Research Labs\", please provide your Enrolled Batch Number.  \\\n",
       "0                                                  251                                                               \n",
       "1                                                  NaN                                                               \n",
       "2                                                  NaN                                                               \n",
       "3                                                  NaN                                                               \n",
       "4                                                   Na                                                               \n",
       "..                                                 ...                                                               \n",
       "995                                                NaN                                                               \n",
       "996                                                NaN                                                               \n",
       "997                                                NaN                                                               \n",
       "998                                                NaN                                                               \n",
       "999                                                NaN                                                               \n",
       "\n",
       "    Please indicate the time that suits you for your daily LIVE interaction with our Chief Data Scientist as part of your internship.  \\\n",
       "0                                  6:00 to 7:00 PM IST                                                                                  \n",
       "1                                  6:00 to 7:00 PM IST                                                                                  \n",
       "2                                  6:00 to 7:00 PM IST                                                                                  \n",
       "3                                  5:00 to 6:00 PM IST                                                                                  \n",
       "4                                  6:00 to 7:00 PM IST                                                                                  \n",
       "..                                                 ...                                                                                  \n",
       "995                                6:00 to 7:00 PM IST                                                                                  \n",
       "996                                6:00 to 7:00 PM IST                                                                                  \n",
       "997                                6:00 to 7:00 PM IST                                                                                  \n",
       "998                                6:00 to 7:00 PM IST                                                                                  \n",
       "999                                6:00 to 7:00 PM IST                                                                                  \n",
       "\n",
       "    What do you think are most important skill right now for a skilled Data Scientist?  \n",
       "0    Extracting actionable insights from the raw da...                                  \n",
       "1     Extracting actionable insights from the raw data                                  \n",
       "2                                       Data Modelling                                  \n",
       "3    Extracting actionable insights from the raw da...                                  \n",
       "4    Extracting actionable insights from the raw da...                                  \n",
       "..                                                 ...                                  \n",
       "995  Extracting actionable insights from the raw da...                                  \n",
       "996                                               LLMs                                  \n",
       "997  Extracting actionable insights from the raw da...                                  \n",
       "998  Extracting actionable insights from the raw da...                                  \n",
       "999                    LLMs, MLOps, Prompt Engineering                                  \n",
       "\n",
       "[1000 rows x 8 columns]"
      ]
     },
     "execution_count": 51,
     "metadata": {},
     "output_type": "execute_result"
    }
   ],
   "source": [
    "Data"
   ]
  },
  {
   "cell_type": "code",
   "execution_count": 52,
   "id": "7965dbad",
   "metadata": {},
   "outputs": [
    {
     "data": {
      "text/plain": [
       "Index(['Date of Birth', 'What is your current profession?',\n",
       "       'What is the year of completion of your Highest Education Qualification?',\n",
       "       'Which of the following best describes you?',\n",
       "       'Please mention the name of the institute where you have completed or are currently pursuing your Data Science Certification Course.',\n",
       "       'In case your certification institute is \"Innomatics Research Labs\", please provide your Enrolled Batch Number.',\n",
       "       'Please indicate the time that suits you for your daily LIVE interaction with our Chief Data Scientist as part of your internship.',\n",
       "       'What do you think are most important skill right now for a skilled Data Scientist?'],\n",
       "      dtype='object')"
      ]
     },
     "execution_count": 52,
     "metadata": {},
     "output_type": "execute_result"
    }
   ],
   "source": [
    "Data.columns"
   ]
  },
  {
   "cell_type": "code",
   "execution_count": 53,
   "id": "081e6474",
   "metadata": {},
   "outputs": [
    {
     "data": {
      "text/plain": [
       "Date of Birth                                                                                                                            0\n",
       "What is your current profession?                                                                                                         0\n",
       "What is the year of completion of your Highest Education Qualification?                                                                  0\n",
       "Which of the following best describes you?                                                                                               0\n",
       "Please mention the name of the institute where you have completed or are currently pursuing your Data Science Certification Course.    322\n",
       "In case your certification institute is \"Innomatics Research Labs\", please provide your Enrolled Batch Number.                         662\n",
       "Please indicate the time that suits you for your daily LIVE interaction with our Chief Data Scientist as part of your internship.        0\n",
       "What do you think are most important skill right now for a skilled Data Scientist?                                                       0\n",
       "dtype: int64"
      ]
     },
     "execution_count": 53,
     "metadata": {},
     "output_type": "execute_result"
    }
   ],
   "source": [
    "Data.isnull().sum()"
   ]
  },
  {
   "cell_type": "code",
   "execution_count": 54,
   "id": "a1d03f02",
   "metadata": {},
   "outputs": [
    {
     "name": "stdout",
     "output_type": "stream",
     "text": [
      "<class 'pandas.core.frame.DataFrame'>\n",
      "RangeIndex: 1000 entries, 0 to 999\n",
      "Data columns (total 8 columns):\n",
      " #   Column                                                                                                                               Non-Null Count  Dtype \n",
      "---  ------                                                                                                                               --------------  ----- \n",
      " 0   Date of Birth                                                                                                                        1000 non-null   object\n",
      " 1   What is your current profession?                                                                                                     1000 non-null   object\n",
      " 2   What is the year of completion of your Highest Education Qualification?                                                              1000 non-null   object\n",
      " 3   Which of the following best describes you?                                                                                           1000 non-null   object\n",
      " 4   Please mention the name of the institute where you have completed or are currently pursuing your Data Science Certification Course.  678 non-null    object\n",
      " 5   In case your certification institute is \"Innomatics Research Labs\", please provide your Enrolled Batch Number.                       338 non-null    object\n",
      " 6   Please indicate the time that suits you for your daily LIVE interaction with our Chief Data Scientist as part of your internship.    1000 non-null   object\n",
      " 7   What do you think are most important skill right now for a skilled Data Scientist?                                                   1000 non-null   object\n",
      "dtypes: object(8)\n",
      "memory usage: 62.6+ KB\n"
     ]
    }
   ],
   "source": [
    "Data.info()"
   ]
  },
  {
   "cell_type": "code",
   "execution_count": 55,
   "id": "644cb278",
   "metadata": {},
   "outputs": [
    {
     "data": {
      "text/html": [
       "<div>\n",
       "<style scoped>\n",
       "    .dataframe tbody tr th:only-of-type {\n",
       "        vertical-align: middle;\n",
       "    }\n",
       "\n",
       "    .dataframe tbody tr th {\n",
       "        vertical-align: top;\n",
       "    }\n",
       "\n",
       "    .dataframe thead th {\n",
       "        text-align: right;\n",
       "    }\n",
       "</style>\n",
       "<table border=\"1\" class=\"dataframe\">\n",
       "  <thead>\n",
       "    <tr style=\"text-align: right;\">\n",
       "      <th></th>\n",
       "      <th>Date of Birth</th>\n",
       "      <th>What is your current profession?</th>\n",
       "      <th>What is the year of completion of your Highest Education Qualification?</th>\n",
       "      <th>Which of the following best describes you?</th>\n",
       "      <th>Please mention the name of the institute where you have completed or are currently pursuing your Data Science Certification Course.</th>\n",
       "      <th>In case your certification institute is \"Innomatics Research Labs\", please provide your Enrolled Batch Number.</th>\n",
       "      <th>Please indicate the time that suits you for your daily LIVE interaction with our Chief Data Scientist as part of your internship.</th>\n",
       "      <th>What do you think are most important skill right now for a skilled Data Scientist?</th>\n",
       "    </tr>\n",
       "  </thead>\n",
       "  <tbody>\n",
       "    <tr>\n",
       "      <th>count</th>\n",
       "      <td>1000</td>\n",
       "      <td>1000</td>\n",
       "      <td>1000</td>\n",
       "      <td>1000</td>\n",
       "      <td>678</td>\n",
       "      <td>338</td>\n",
       "      <td>1000</td>\n",
       "      <td>1000</td>\n",
       "    </tr>\n",
       "    <tr>\n",
       "      <th>unique</th>\n",
       "      <td>826</td>\n",
       "      <td>4</td>\n",
       "      <td>553</td>\n",
       "      <td>3</td>\n",
       "      <td>365</td>\n",
       "      <td>139</td>\n",
       "      <td>2</td>\n",
       "      <td>60</td>\n",
       "    </tr>\n",
       "    <tr>\n",
       "      <th>top</th>\n",
       "      <td>11/24/2001</td>\n",
       "      <td>Student (I am currently enrolled in some Educa...</td>\n",
       "      <td>5/15/2024</td>\n",
       "      <td>I am currently enrolled in a Data Science cert...</td>\n",
       "      <td>Innomatics Research Labs</td>\n",
       "      <td>Na</td>\n",
       "      <td>6:00 to 7:00 PM IST</td>\n",
       "      <td>Extracting actionable insights from the raw da...</td>\n",
       "    </tr>\n",
       "    <tr>\n",
       "      <th>freq</th>\n",
       "      <td>4</td>\n",
       "      <td>488</td>\n",
       "      <td>19</td>\n",
       "      <td>405</td>\n",
       "      <td>109</td>\n",
       "      <td>16</td>\n",
       "      <td>672</td>\n",
       "      <td>214</td>\n",
       "    </tr>\n",
       "  </tbody>\n",
       "</table>\n",
       "</div>"
      ],
      "text/plain": [
       "       Date of Birth                   What is your current profession?  \\\n",
       "count           1000                                               1000   \n",
       "unique           826                                                  4   \n",
       "top       11/24/2001  Student (I am currently enrolled in some Educa...   \n",
       "freq               4                                                488   \n",
       "\n",
       "       What is the year of completion of your Highest Education Qualification?  \\\n",
       "count                                                1000                        \n",
       "unique                                                553                        \n",
       "top                                             5/15/2024                        \n",
       "freq                                                   19                        \n",
       "\n",
       "               Which of the following best describes you?  \\\n",
       "count                                                1000   \n",
       "unique                                                  3   \n",
       "top     I am currently enrolled in a Data Science cert...   \n",
       "freq                                                  405   \n",
       "\n",
       "       Please mention the name of the institute where you have completed or are currently pursuing your Data Science Certification Course.  \\\n",
       "count                                                 678                                                                                    \n",
       "unique                                                365                                                                                    \n",
       "top                              Innomatics Research Labs                                                                                    \n",
       "freq                                                  109                                                                                    \n",
       "\n",
       "       In case your certification institute is \"Innomatics Research Labs\", please provide your Enrolled Batch Number.  \\\n",
       "count                                                 338                                                               \n",
       "unique                                                139                                                               \n",
       "top                                                    Na                                                               \n",
       "freq                                                   16                                                               \n",
       "\n",
       "       Please indicate the time that suits you for your daily LIVE interaction with our Chief Data Scientist as part of your internship.  \\\n",
       "count                                                1000                                                                                  \n",
       "unique                                                  2                                                                                  \n",
       "top                                   6:00 to 7:00 PM IST                                                                                  \n",
       "freq                                                  672                                                                                  \n",
       "\n",
       "       What do you think are most important skill right now for a skilled Data Scientist?  \n",
       "count                                                1000                                  \n",
       "unique                                                 60                                  \n",
       "top     Extracting actionable insights from the raw da...                                  \n",
       "freq                                                  214                                  "
      ]
     },
     "execution_count": 55,
     "metadata": {},
     "output_type": "execute_result"
    }
   ],
   "source": [
    "Data.describe()"
   ]
  },
  {
   "cell_type": "markdown",
   "id": "d3884b34",
   "metadata": {},
   "source": [
    "## What_is_the_current_profession_of_most_interns?"
   ]
  },
  {
   "cell_type": "code",
   "execution_count": 56,
   "id": "ff17cf84",
   "metadata": {},
   "outputs": [],
   "source": [
    "What_is_the_current_profession_of_most_interns = Data['What is your current profession?'].mode().values[0]"
   ]
  },
  {
   "cell_type": "code",
   "execution_count": 57,
   "id": "b0579751",
   "metadata": {},
   "outputs": [
    {
     "data": {
      "text/plain": [
       "'Student (I am currently enrolled in some Educational Program)'"
      ]
     },
     "execution_count": 57,
     "metadata": {},
     "output_type": "execute_result"
    }
   ],
   "source": [
    "What_is_the_current_profession_of_most_interns"
   ]
  },
  {
   "cell_type": "markdown",
   "id": "bc222335",
   "metadata": {},
   "source": [
    "## What are the preferred LIVE session timings?"
   ]
  },
  {
   "cell_type": "code",
   "execution_count": 58,
   "id": "7e60c729",
   "metadata": {},
   "outputs": [],
   "source": [
    "Live_sessions_timings = Data['Please indicate the time that suits you for your daily LIVE interaction with our Chief Data Scientist as part of your internship.'].mode().values[0]"
   ]
  },
  {
   "cell_type": "code",
   "execution_count": 59,
   "id": "7fb90285",
   "metadata": {},
   "outputs": [
    {
     "data": {
      "text/plain": [
       "'6:00 to 7:00 PM IST'"
      ]
     },
     "execution_count": 59,
     "metadata": {},
     "output_type": "execute_result"
    }
   ],
   "source": [
    "Live_sessions_timings"
   ]
  },
  {
   "cell_type": "markdown",
   "id": "2e5b88fd",
   "metadata": {},
   "source": [
    "## How many interns are enrolled or have completed their data science professional courses?"
   ]
  },
  {
   "cell_type": "code",
   "execution_count": 60,
   "id": "5c58a13c",
   "metadata": {},
   "outputs": [
    {
     "data": {
      "text/plain": [
       "Which of the following best describes you?\n",
       "I am currently enrolled in a Data Science certification course    405\n",
       "I have never enrolled in any certification courses                302\n",
       "I have completed a Data Science certification course              293\n",
       "Name: count, dtype: int64"
      ]
     },
     "execution_count": 60,
     "metadata": {},
     "output_type": "execute_result"
    }
   ],
   "source": [
    "data_science_count = Data['Which of the following best describes you?'].value_counts()\n",
    "data_science_count "
   ]
  },
  {
   "cell_type": "code",
   "execution_count": 61,
   "id": "0ffe64bc",
   "metadata": {},
   "outputs": [
    {
     "data": {
      "text/plain": [
       "698"
      ]
     },
     "execution_count": 61,
     "metadata": {},
     "output_type": "execute_result"
    }
   ],
   "source": [
    "enrolled_count = data_science_count .get(\"I am currently enrolled in a Data Science certification course\", 0)\n",
    "completed_count = data_science_count .get(\"I have completed a Data Science certification course\", 0)\n",
    "total_count = enrolled_count + completed_count\n",
    "total_count\n"
   ]
  },
  {
   "cell_type": "markdown",
   "id": "a9e22010",
   "metadata": {},
   "source": [
    "## For interns who never enrolled in a data science certification course, what is the current profession of the majority of them?"
   ]
  },
  {
   "cell_type": "code",
   "execution_count": 62,
   "id": "abf9b876",
   "metadata": {},
   "outputs": [
    {
     "data": {
      "text/plain": [
       "Which of the following best describes you?\n",
       "I am currently enrolled in a Data Science certification course    Fresher (I have completed my Education and loo...\n",
       "I have completed a Data Science certification course              Fresher (I have completed my Education and loo...\n",
       "I have never enrolled in any certification courses                Student (I am currently enrolled in some Educa...\n",
       "Name: What is your current profession?, dtype: object"
      ]
     },
     "execution_count": 62,
     "metadata": {},
     "output_type": "execute_result"
    }
   ],
   "source": [
    "enrollment_column = 'Which of the following best describes you?'\n",
    "profession_column = 'What is your current profession?'\n",
    "mode_profession = Data.groupby(enrollment_column)[profession_column].apply(lambda x: x.mode().iloc[0])\n",
    "mode_profession\n"
   ]
  },
  {
   "cell_type": "markdown",
   "id": "f86db20d",
   "metadata": {},
   "source": [
    "## Which skill is the third most important for a data scientist?\n"
   ]
  },
  {
   "cell_type": "code",
   "execution_count": 63,
   "id": "cacdf315",
   "metadata": {},
   "outputs": [
    {
     "name": "stdout",
     "output_type": "stream",
     "text": [
      "What do you think are most important skill right now for a skilled Data Scientist?\n",
      "extracting actionable insights from the raw data          869\n",
      "data modelling                                            825\n",
      "mlops                                                     596\n",
      "llms                                                      533\n",
      "basics of backend application development using python    522\n",
      "prompt engineering                                        425\n",
      "Name: count, dtype: int64\n"
     ]
    }
   ],
   "source": [
    "\n",
    "skills_column = 'What do you think are most important skill right now for a skilled Data Scientist?'\n",
    "\n",
    "skills_count = Data[skills_column].str.lower().str.replace(r'[^\\w\\s,]', '', regex=True).str.split(',').explode().str.strip().value_counts()\n",
    "\n",
    "most_common_skills = skills_count.nlargest(10) \n",
    "\n",
    "print(most_common_skills)\n"
   ]
  },
  {
   "cell_type": "markdown",
   "id": "52c1d215",
   "metadata": {},
   "source": [
    "## How many interns selected “Prompt Engineering” as the most important skill?"
   ]
  },
  {
   "cell_type": "code",
   "execution_count": 64,
   "id": "44ac2eb0",
   "metadata": {},
   "outputs": [
    {
     "data": {
      "text/plain": [
       "425"
      ]
     },
     "execution_count": 64,
     "metadata": {},
     "output_type": "execute_result"
    }
   ],
   "source": [
    "\n",
    "skills_column = 'What do you think are most important skill right now for a skilled Data Scientist?'\n",
    "prompt_engineering_count = Data[skills_column].str.lower().str.count('prompt engineering').sum()\n",
    "prompt_engineering_count\n"
   ]
  },
  {
   "cell_type": "markdown",
   "id": "cc48b252",
   "metadata": {},
   "source": [
    "## What is the minimum age of an intern at Innomatics Research Labs?\n"
   ]
  },
  {
   "cell_type": "code",
   "execution_count": 65,
   "id": "d57b8028",
   "metadata": {},
   "outputs": [
    {
     "data": {
      "text/plain": [
       "20"
      ]
     },
     "execution_count": 65,
     "metadata": {},
     "output_type": "execute_result"
    }
   ],
   "source": [
    "dob_column = 'Date of Birth'\n",
    "Data[dob_column] = pd.to_datetime(Data[dob_column])\n",
    "Data['Age'] = (pd.Timestamp('now') - Data[dob_column]) // pd.Timedelta(days=365)\n",
    "innomatics_interns = Data[Data['Please mention the name of the institute where you have completed or are currently pursuing your Data Science Certification Course.'] == 'Innomatics Research Labs']\n",
    "min_age_innomatics = innomatics_interns['Age'].min()\n",
    "min_age_innomatics\n"
   ]
  },
  {
   "cell_type": "markdown",
   "id": "2e479109",
   "metadata": {},
   "source": [
    "## How many interns were born on a Sunday?"
   ]
  },
  {
   "cell_type": "code",
   "execution_count": 66,
   "id": "6c771957",
   "metadata": {},
   "outputs": [
    {
     "data": {
      "text/plain": [
       "125"
      ]
     },
     "execution_count": 66,
     "metadata": {},
     "output_type": "execute_result"
    }
   ],
   "source": [
    "\n",
    "dob_column = 'Date of Birth'\n",
    "Data[dob_column] = pd.to_datetime(Data[dob_column])\n",
    "sunday_interns = Data[Data[dob_column].dt.dayofweek == 6]\n",
    "total_sunday_interns = len(sunday_interns)\n",
    "total_sunday_interns\n"
   ]
  },
  {
   "cell_type": "markdown",
   "id": "f0ab165e",
   "metadata": {},
   "source": [
    "## In which month do the majority of interns are born?\n"
   ]
  },
  {
   "cell_type": "code",
   "execution_count": 67,
   "id": "967556cd",
   "metadata": {},
   "outputs": [
    {
     "data": {
      "text/plain": [
       "Birth Month\n",
       "January       66\n",
       "February      64\n",
       "March         61\n",
       "April         87\n",
       "May          102\n",
       "June          97\n",
       "July         103\n",
       "August        93\n",
       "September     81\n",
       "October       92\n",
       "November      78\n",
       "December      76\n",
       "Name: count, dtype: int64"
      ]
     },
     "execution_count": 67,
     "metadata": {},
     "output_type": "execute_result"
    }
   ],
   "source": [
    "\n",
    "dob_column = 'Date of Birth'\n",
    "Data[dob_column] = pd.to_datetime(Data[dob_column])\n",
    "Data['Birth Month'] = Data[dob_column].dt.month_name()\n",
    "month_order = ['January', 'February', 'March', 'April', 'May', 'June', 'July', 'August', 'September', 'October', 'November', 'December']\n",
    "month_counts = Data['Birth Month'].value_counts().reindex(month_order, fill_value=0)\n",
    "month_counts\n"
   ]
  },
  {
   "cell_type": "markdown",
   "id": "1ab2b22b",
   "metadata": {},
   "source": [
    "## What is the median age of a working professional?\n"
   ]
  },
  {
   "cell_type": "code",
   "execution_count": 68,
   "id": "c1d7faaf",
   "metadata": {},
   "outputs": [
    {
     "data": {
      "text/plain": [
       "26.585939433301235"
      ]
     },
     "execution_count": 68,
     "metadata": {},
     "output_type": "execute_result"
    }
   ],
   "source": [
    "dob_column = 'Date of Birth'\n",
    "Data[dob_column] = pd.to_datetime(Data[dob_column])\n",
    "Data['Age'] = (pd.Timestamp('now') - Data[dob_column]).dt.total_seconds() / (365.25 * 24 * 60 * 60)\n",
    "working_professionals = Data[Data['What is your current profession?'].str.contains('Working Professional', case=False, na=False)]\n",
    "median_age = working_professionals['Age'].median()\n",
    "median_age"
   ]
  },
  {
   "cell_type": "markdown",
   "id": "3e9ff75c",
   "metadata": {},
   "source": [
    "## What is the maximum age of a freelancer?"
   ]
  },
  {
   "cell_type": "code",
   "execution_count": 69,
   "id": "e405f65b",
   "metadata": {},
   "outputs": [
    {
     "data": {
      "text/plain": [
       "43.63864306622376"
      ]
     },
     "execution_count": 69,
     "metadata": {},
     "output_type": "execute_result"
    }
   ],
   "source": [
    "\n",
    "dob_column = 'Date of Birth'\n",
    "Data[dob_column] = pd.to_datetime(Data[dob_column])\n",
    "Data['Age'] = (pd.Timestamp('now') - Data[dob_column]).dt.total_seconds() / (365.25 * 24 * 60 * 60)\n",
    "freelancers = Data[Data['What is your current profession?'].str.contains('Freelancer', case=False, na=False)]\n",
    "max_age_freelancer = freelancers['Age'].max()\n",
    "max_age_freelancer"
   ]
  },
  {
   "cell_type": "markdown",
   "id": "d0f28d29",
   "metadata": {},
   "source": [
    "## How many interns didn’t mention the name of the data science institute from where they completed or are currently pursuing the courses?"
   ]
  },
  {
   "cell_type": "code",
   "execution_count": 70,
   "id": "2b8d1874",
   "metadata": {},
   "outputs": [
    {
     "data": {
      "text/plain": [
       "322"
      ]
     },
     "execution_count": 70,
     "metadata": {},
     "output_type": "execute_result"
    }
   ],
   "source": [
    "institute_column = 'Please mention the name of the institute where you have completed or are currently pursuing your Data Science Certification Course.'\n",
    "missing_institute_count = Data[institute_column].isnull().sum()\n",
    "missing_institute_count"
   ]
  },
  {
   "cell_type": "code",
   "execution_count": 71,
   "id": "6e221d08",
   "metadata": {},
   "outputs": [
    {
     "data": {
      "text/plain": [
       "Date of Birth                                                                                                                            0\n",
       "What is your current profession?                                                                                                         0\n",
       "What is the year of completion of your Highest Education Qualification?                                                                  0\n",
       "Which of the following best describes you?                                                                                               0\n",
       "Please mention the name of the institute where you have completed or are currently pursuing your Data Science Certification Course.    322\n",
       "In case your certification institute is \"Innomatics Research Labs\", please provide your Enrolled Batch Number.                         662\n",
       "Please indicate the time that suits you for your daily LIVE interaction with our Chief Data Scientist as part of your internship.        0\n",
       "What do you think are most important skill right now for a skilled Data Scientist?                                                       0\n",
       "Age                                                                                                                                      0\n",
       "Birth Month                                                                                                                              0\n",
       "dtype: int64"
      ]
     },
     "execution_count": 71,
     "metadata": {},
     "output_type": "execute_result"
    }
   ],
   "source": [
    "Data.isnull().sum()"
   ]
  },
  {
   "cell_type": "markdown",
   "id": "8c202b1c",
   "metadata": {},
   "source": [
    "## How many interns mentioned Innomatics as their data science institute?\n"
   ]
  },
  {
   "cell_type": "code",
   "execution_count": 72,
   "id": "19a35c88",
   "metadata": {},
   "outputs": [
    {
     "data": {
      "text/plain": [
       "278"
      ]
     },
     "execution_count": 72,
     "metadata": {},
     "output_type": "execute_result"
    }
   ],
   "source": [
    "\n",
    "institute_column = 'Please mention the name of the institute where you have completed or are currently pursuing your Data Science Certification Course.'\n",
    "innomatics_count = Data[Data[institute_column].str.contains('Innomatics', case=False, na=False)].shape[0]\n",
    "innomatics_count\n"
   ]
  },
  {
   "cell_type": "code",
   "execution_count": null,
   "id": "9de6db7e",
   "metadata": {},
   "outputs": [],
   "source": []
  },
  {
   "cell_type": "code",
   "execution_count": null,
   "id": "d5b34a4a",
   "metadata": {},
   "outputs": [],
   "source": []
  },
  {
   "cell_type": "code",
   "execution_count": null,
   "id": "3b711e5f",
   "metadata": {},
   "outputs": [],
   "source": []
  }
 ],
 "metadata": {
  "kernelspec": {
   "display_name": "Python 3 (ipykernel)",
   "language": "python",
   "name": "python3"
  },
  "language_info": {
   "codemirror_mode": {
    "name": "ipython",
    "version": 3
   },
   "file_extension": ".py",
   "mimetype": "text/x-python",
   "name": "python",
   "nbconvert_exporter": "python",
   "pygments_lexer": "ipython3",
   "version": "3.11.5"
  }
 },
 "nbformat": 4,
 "nbformat_minor": 5
}
